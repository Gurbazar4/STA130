{
 "cells": [
  {
   "cell_type": "markdown",
   "id": "ee87afa7",
   "metadata": {},
   "source": [
    "Course Project Proposal"
   ]
  },
  {
   "cell_type": "markdown",
   "id": "64882002",
   "metadata": {},
   "source": [
    "Analysis 1. Impact Social Interactions have on Life Satisfaction\n",
    "\n",
    "Research Question- How does social interaction influence overall life satisfaction among Canadians?\n",
    "\n",
    "Variables: \n",
    "- WELLNESS_life_satisfaction \n",
    "- CONNECTION_meaningful_interactions\n",
    "- CONNECTION_activities_talked_family_p3m\n",
    "- CONNECTION_activities_talked_friends_p3m\n",
    "\n",
    "Methods: Descriptive statistics to understand the distribution of interactions and satisfaction, then use simple linear regression to test the relationship between social interaction frequency and mental health. Visualize with scatter plots.\n",
    "\n",
    "Hypothesis: Frequent, meaningful interactions are associated with greater life satisfaction."
   ]
  },
  {
   "cell_type": "markdown",
   "id": "b71e9904",
   "metadata": {},
   "source": [
    "Analysis 2. Relationship Between Loneliness and Covid 19 Precautions\n",
    "\n",
    "Research Question- Did Covid 19 presentive measures correlate with higher levels of loneliness?\n",
    "\n",
    "Variables:\n",
    "- COVID_prevention_*\n",
    "- LONELY_ucla_loneliness_scale_*\n",
    "\n",
    "Methods: Use a multinomial distribution to model the categorical responses related to Covid 19 measures and assess correlations with loneliness levels. Box plots and histograms can visualize the loneliness distribution across preventive measure categories.\n",
    "\n",
    "Hypothesis: Individuals that sticked to more preventive measures report higher loneliness levels due to reduced in-person interactions."
   ]
  },
  {
   "cell_type": "markdown",
   "id": "f2298147",
   "metadata": {},
   "source": [
    "Analysis 3. Influence of Household Composition on Life Satisfaction\n",
    "\n",
    "Research Question- How does household composition affect life satisfaction and social connection?\n",
    "\n",
    "Variables: \n",
    "- GEO_housing_live_with_*\n",
    "- WELLNESS_life_satisfaction\n",
    "\n",
    "Methods: Descriptive statistics to summarize life satisfaction across household types, followed by analysis of variance to compare life satisfaction means across different household compositions.\n",
    "\n",
    "Hypothesis: People living with family or pets report higher life satisfaction compared to those living alone."
   ]
  },
  {
   "cell_type": "code",
   "execution_count": null,
   "id": "c6ac9777",
   "metadata": {},
   "outputs": [],
   "source": []
  }
 ],
 "metadata": {
  "kernelspec": {
   "display_name": "Python 3 (ipykernel)",
   "language": "python",
   "name": "python3"
  },
  "language_info": {
   "codemirror_mode": {
    "name": "ipython",
    "version": 3
   },
   "file_extension": ".py",
   "mimetype": "text/x-python",
   "name": "python",
   "nbconvert_exporter": "python",
   "pygments_lexer": "ipython3",
   "version": "3.11.6"
  }
 },
 "nbformat": 4,
 "nbformat_minor": 5
}
